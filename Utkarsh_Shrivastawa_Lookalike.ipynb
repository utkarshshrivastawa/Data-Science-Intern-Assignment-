{
 "cells": [
  {
   "cell_type": "markdown",
   "id": "d736a287-c6d4-4d74-8b5b-531380e25ebd",
   "metadata": {},
   "source": [
    " # Data Preparation"
   ]
  },
  {
   "cell_type": "code",
   "execution_count": 1,
   "id": "12ed2c9b-d9eb-4db4-93e1-279fe7ef3dbf",
   "metadata": {},
   "outputs": [],
   "source": [
    "# Importing a library \n",
    "import pandas as pd\n",
    "import numpy as np\n",
    "from sklearn.preprocessing import MinMaxScaler\n",
    "from sklearn.metrics.pairwise import cosine_similarity\n",
    "from sklearn.cluster import KMeans\n",
    "from sklearn.metrics import davies_bouldin_score"
   ]
  },
  {
   "cell_type": "code",
   "execution_count": 2,
   "id": "8e730ae8-0f4f-43e8-a46b-d7f88560e0c7",
   "metadata": {},
   "outputs": [],
   "source": [
    "# Load the datasets\n",
    "customers = pd.read_csv(r\"C:\\Users\\utkar\\Desktop\\Zeotap\\Customers (1).csv\")\n",
    "products = pd.read_csv(r\"C:\\Users\\utkar\\Desktop\\Zeotap\\Products.csv\")\n",
    "transactions = pd.read_csv(r\"C:\\Users\\utkar\\Desktop\\Zeotap\\Transactions.csv\")"
   ]
  },
  {
   "cell_type": "code",
   "execution_count": 3,
   "id": "8cf8c4df-1907-4972-9c98-07cef86fe046",
   "metadata": {},
   "outputs": [],
   "source": [
    "# Merge transactions with customers and products\n",
    "transactions = transactions.merge(customers[['CustomerID', 'Region']], on='CustomerID')\n",
    "transactions = transactions.merge(products[['ProductID', 'Category', 'Price']], on='ProductID')"
   ]
  },
  {
   "cell_type": "markdown",
   "id": "68771356-28f9-41c6-aace-29b88a7fb3cf",
   "metadata": {},
   "source": [
    "# Feature Engineering"
   ]
  },
  {
   "cell_type": "code",
   "execution_count": 4,
   "id": "a8971412-ba4b-475e-a87e-4c96a910e7d7",
   "metadata": {},
   "outputs": [],
   "source": [
    "# Create a customer profile based on transaction history\n",
    "customer_transactions = transactions.groupby('CustomerID').agg({\n",
    "    'TotalValue': 'sum',\n",
    "    'TransactionID': 'count',\n",
    "    'Quantity': 'sum'\n",
    "}).reset_index()"
   ]
  },
  {
   "cell_type": "code",
   "execution_count": 5,
   "id": "6ce891fd-db7d-4f01-849b-31ff0c5c63c3",
   "metadata": {},
   "outputs": [],
   "source": [
    "customer_transactions.columns = ['CustomerID', 'TotalSpend', 'TransactionCount', 'TotalQuantity']"
   ]
  },
  {
   "cell_type": "code",
   "execution_count": 6,
   "id": "01372f35-ed1c-4795-a6b3-b2d134c7721b",
   "metadata": {},
   "outputs": [],
   "source": [
    "# Merge customer data with aggregated transaction data\n",
    "customer_data = pd.merge(customers, customer_transactions, on='CustomerID', how='left').fillna(0)"
   ]
  },
  {
   "cell_type": "code",
   "execution_count": 7,
   "id": "6e3c686a-3368-44ae-b159-99575ee37973",
   "metadata": {},
   "outputs": [],
   "source": [
    "# Normalize numerical columns\n",
    "scaler = MinMaxScaler()\n",
    "scaled_features = scaler.fit_transform(customer_data[['TotalSpend', 'TransactionCount', 'TotalQuantity']])\n",
    "customer_data[['ScaledSpend', 'ScaledCount', 'ScaledQuantity']] = scaled_features"
   ]
  },
  {
   "cell_type": "code",
   "execution_count": 8,
   "id": "7a76b13b-70cc-41f5-8867-4697aa044fce",
   "metadata": {},
   "outputs": [],
   "source": [
    "# Calculate cosine similarity\n",
    "similarity_matrix = cosine_similarity(scaled_features)"
   ]
  },
  {
   "cell_type": "code",
   "execution_count": 9,
   "id": "e11c324c-b2f7-46c5-9660-b2006e29fbe4",
   "metadata": {},
   "outputs": [],
   "source": [
    "# Function to get top 3 similar customers\n",
    "def get_top_3_similar(customers_df, similarity_matrix, customer_id):\n",
    "    idx = customers_df[customers_df['CustomerID'] == customer_id].index[0]\n",
    "    similar_indices = np.argsort(similarity_matrix[idx])[::-1][1:4]  # Top 3 excluding self\n",
    "    similar_scores = similarity_matrix[idx][similar_indices]\n",
    "    similar_customers = customers_df.iloc[similar_indices]['CustomerID'].values\n",
    "    return list(zip(similar_customers, similar_scores))"
   ]
  },
  {
   "cell_type": "code",
   "execution_count": 10,
   "id": "0679cc1b-3b10-4570-a44a-6e0353a5015a",
   "metadata": {},
   "outputs": [],
   "source": [
    "# Generate lookalikes for first 20 customers\n",
    "lookalike_results = {}\n",
    "for cust_id in customer_data['CustomerID'][:20]:\n",
    "    lookalike_results[cust_id] = get_top_3_similar(customer_data, similarity_matrix, cust_id)"
   ]
  },
  {
   "cell_type": "code",
   "execution_count": 12,
   "id": "dc610b6f-8b80-4947-ac94-35c3b19bb107",
   "metadata": {},
   "outputs": [
    {
     "name": "stdout",
     "output_type": "stream",
     "text": [
      "Lookalike.csv generated successfully!\n"
     ]
    }
   ],
   "source": [
    "# Save to Utkarsh_Shrivastawa_Lookalike.csv\n",
    "import csv\n",
    "\n",
    "with open('Utkarsh_Shrivastawa_Lookalike.csv', 'w', newline='') as file:\n",
    "    writer = csv.writer(file)\n",
    "    writer.writerow(['CustomerID', 'SimilarCustomers'])\n",
    "    for key, value in lookalike_results.items():\n",
    "        writer.writerow([key, value])\n",
    "\n",
    "print(\"Lookalike.csv generated successfully!\")"
   ]
  },
  {
   "cell_type": "code",
   "execution_count": 14,
   "id": "0c28772e-a8e5-4a52-9801-591ec25d38ea",
   "metadata": {},
   "outputs": [],
   "source": [
    "Utkarsh_Shrivastawa_Lookalike = pd.read_csv(r\"C:\\Users\\utkar\\Desktop\\Zeotap\\Utkarsh_Shrivastawa_Lookalike.csv\")"
   ]
  },
  {
   "cell_type": "code",
   "execution_count": 15,
   "id": "205f7985-1ebc-47e0-a293-9cf6988bd0a3",
   "metadata": {},
   "outputs": [
    {
     "data": {
      "text/html": [
       "<div>\n",
       "<style scoped>\n",
       "    .dataframe tbody tr th:only-of-type {\n",
       "        vertical-align: middle;\n",
       "    }\n",
       "\n",
       "    .dataframe tbody tr th {\n",
       "        vertical-align: top;\n",
       "    }\n",
       "\n",
       "    .dataframe thead th {\n",
       "        text-align: right;\n",
       "    }\n",
       "</style>\n",
       "<table border=\"1\" class=\"dataframe\">\n",
       "  <thead>\n",
       "    <tr style=\"text-align: right;\">\n",
       "      <th></th>\n",
       "      <th>CustomerID</th>\n",
       "      <th>SimilarCustomers</th>\n",
       "    </tr>\n",
       "  </thead>\n",
       "  <tbody>\n",
       "    <tr>\n",
       "      <th>0</th>\n",
       "      <td>C0001</td>\n",
       "      <td>[('C0005', 0.9998846535342246), ('C0131', 0.99...</td>\n",
       "    </tr>\n",
       "    <tr>\n",
       "      <th>1</th>\n",
       "      <td>C0002</td>\n",
       "      <td>[('C0029', 0.9999112006371909), ('C0031', 0.99...</td>\n",
       "    </tr>\n",
       "    <tr>\n",
       "      <th>2</th>\n",
       "      <td>C0003</td>\n",
       "      <td>[('C0136', 0.9998174786510949), ('C0073', 0.99...</td>\n",
       "    </tr>\n",
       "    <tr>\n",
       "      <th>3</th>\n",
       "      <td>C0004</td>\n",
       "      <td>[('C0195', 0.9999669500657861), ('C0039', 0.99...</td>\n",
       "    </tr>\n",
       "    <tr>\n",
       "      <th>4</th>\n",
       "      <td>C0005</td>\n",
       "      <td>[('C0067', 0.9999973395785413), ('C0108', 0.99...</td>\n",
       "    </tr>\n",
       "  </tbody>\n",
       "</table>\n",
       "</div>"
      ],
      "text/plain": [
       "  CustomerID                                   SimilarCustomers\n",
       "0      C0001  [('C0005', 0.9998846535342246), ('C0131', 0.99...\n",
       "1      C0002  [('C0029', 0.9999112006371909), ('C0031', 0.99...\n",
       "2      C0003  [('C0136', 0.9998174786510949), ('C0073', 0.99...\n",
       "3      C0004  [('C0195', 0.9999669500657861), ('C0039', 0.99...\n",
       "4      C0005  [('C0067', 0.9999973395785413), ('C0108', 0.99..."
      ]
     },
     "execution_count": 15,
     "metadata": {},
     "output_type": "execute_result"
    }
   ],
   "source": [
    "Utkarsh_Shrivastawa_Lookalike.head()"
   ]
  },
  {
   "cell_type": "code",
   "execution_count": null,
   "id": "614a6514-07f3-41b5-849e-05f16e799e25",
   "metadata": {},
   "outputs": [],
   "source": []
  }
 ],
 "metadata": {
  "kernelspec": {
   "display_name": "Python 3 (ipykernel)",
   "language": "python",
   "name": "python3"
  },
  "language_info": {
   "codemirror_mode": {
    "name": "ipython",
    "version": 3
   },
   "file_extension": ".py",
   "mimetype": "text/x-python",
   "name": "python",
   "nbconvert_exporter": "python",
   "pygments_lexer": "ipython3",
   "version": "3.12.8"
  }
 },
 "nbformat": 4,
 "nbformat_minor": 5
}
